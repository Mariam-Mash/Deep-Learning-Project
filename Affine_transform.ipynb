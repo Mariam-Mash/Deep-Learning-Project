{
  "nbformat": 4,
  "nbformat_minor": 0,
  "metadata": {
    "colab": {
      "name": "Untitled13.ipynb",
      "provenance": []
    },
    "kernelspec": {
      "name": "python3",
      "display_name": "Python 3"
    }
  },
  "cells": [
    {
      "cell_type": "code",
      "metadata": {
        "id": "IcYhVchlNxgc",
        "colab_type": "code",
        "colab": {}
      },
      "source": [
        "import torch\n",
        "def test(points, rot_mat, mask) :\n",
        "  \n",
        "  size = (128, 128) # N x C x H x W apparently\n",
        "  base = test_compare()\n",
        "  base = base.expand((1,1,size[0],size[1]))\n",
        "  learning_rate = 0.1\n",
        "  #x_rot = torch.tensor([0.0], dtype=torch.float32, requires_grad=True)\n",
        "  #y_rot = torch.tensor([0.0], dtype=torch.float32, requires_grad=True)\n",
        "  #z_rot = torch.tensor([0.0], dtype=torch.float32, requires_grad=True)\n",
        "  \n",
        "  ndc_mat = gen_ndc(size)\n",
        "  #rot_mat = gen_rot(x_rot, y_rot, z_rot)\n",
        "  trans_mat = gen_trans(0.0, 0.0, 2.0)\n",
        "  proj_mat = gen_perspective(math.radians(90), 1.0, 1.0, 10.0)\n",
        "  rot_mat.retain_grad() # Need this because it's not a leaf node?!?!\n",
        "\n",
        "  for i in range(200):\n",
        "    \n",
        "    model_mat = torch.matmul(trans_mat, rot_mat)\n",
        "    o = torch.matmul(model_mat, points)\n",
        "    q = torch.matmul(proj_mat, o)\n",
        "    # Divide through by W seems to work with a handy mask and sum\n",
        "    w = q * mask\n",
        "    w = torch.sum(w,1,keepdim=True)\n",
        "    r = q / w\n",
        "  \n",
        "    s = r.narrow(1, 0, 2).reshape(1,1,-1,2)\n",
        "    output = F.grid_sample(base, s)\n",
        "    gauss_point = torch.tensor([[[[1.0]]]], requires_grad=True,\\\n",
        "      dtype=torch.float32)\n",
        "\n",
        "    criterion = torch.nn.MSELoss()\n",
        "    loss = criterion(output, gauss_point)\n",
        "    loss.backward(retain_graph=True)\n",
        "\n",
        "    with torch.no_grad():\n",
        "      rot_mat -= learning_rate * rot_mat.grad\n",
        "      #print(\"rot_mat\", rot_mat)\n",
        "      #loss.backward(retain_graph=True)\n",
        "      #print(\"loss\", rot_mat._grad)\n",
        "      #tn = grad(loss,rot_mat)\n",
        "      rot_mat.grad.zero_()\n",
        "      splatted = splat(points, model_mat, proj_mat, ndc_mat, size)\n",
        "      img = Image.fromarray(np.uint8(splatted.detach().numpy() * 255))\n",
        "      img.save(\"torch\" + str(i).zfill(3) + \".jpg\", \"JPEG\")\n",
        "  return rot_mat\n"
      ],
      "execution_count": 0,
      "outputs": []
    }
  ]
}