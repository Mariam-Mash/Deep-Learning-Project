{
  "nbformat": 4,
  "nbformat_minor": 0,
  "metadata": {
    "colab": {
      "name": "Untitled11.ipynb",
      "provenance": []
    },
    "kernelspec": {
      "name": "python3",
      "display_name": "Python 3"
    }
  },
  "cells": [
    {
      "cell_type": "code",
      "metadata": {
        "id": "HhL8w-it9rrL",
        "colab_type": "code",
        "colab": {}
      },
      "source": [
        "import torch\n",
        "from torch import nn\n",
        "import Image\n",
        "from PIL import Image\n",
        "import numpy as np\n",
        "import pandas as pd\n",
        "import matplotlib.pyplot as plt\n",
        "import cv2\n",
        "import sklearn\n",
        "import os\n",
        "from skimage.color import rgb2gray\n",
        "from skimage.filters import laplace, sobel, roberts"
      ],
      "execution_count": 0,
      "outputs": []
    },
    {
      "cell_type": "code",
      "metadata": {
        "id": "TLbHHMIa-Kei",
        "colab_type": "code",
        "colab": {}
      },
      "source": [
        "###Sobel Edge operator---edge detection operator based on gradient method  \n",
        "###Laplacian Edge operator --- edge detection operator based on gradient methods but it calculated the second dervative\n",
        "## of the data . It internally calls the sobel operator for first derivative."
      ],
      "execution_count": 0,
      "outputs": []
    },
    {
      "cell_type": "code",
      "metadata": {
        "id": "x9blhNJf-ccG",
        "colab_type": "code",
        "colab": {
          "base_uri": "https://localhost:8080/",
          "height": 156
        },
        "outputId": "24c01e60-6995-4f57-e59e-5bc653709af9"
      },
      "source": [
        "print('Sobel operator:\\n',np.matrix([[1,0,-1],[2,0,-2],[1,0,-1]]))\n",
        "print('Laplacian operator:\\n',np.matrix([[0,-1,0],[-1,4,-1],[0,-1,0]]))"
      ],
      "execution_count": 2,
      "outputs": [
        {
          "output_type": "stream",
          "text": [
            "Sobel operator:\n",
            " [[ 1  0 -1]\n",
            " [ 2  0 -2]\n",
            " [ 1  0 -1]]\n",
            "Laplacian operator:\n",
            " [[ 0 -1  0]\n",
            " [-1  4 -1]\n",
            " [ 0 -1  0]]\n"
          ],
          "name": "stdout"
        }
      ]
    },
    {
      "cell_type": "code",
      "metadata": {
        "id": "1Q519TRy-f3U",
        "colab_type": "code",
        "colab": {}
      },
      "source": [
        "###Sharp image\n",
        "###Defocused image\n",
        "###blurred image"
      ],
      "execution_count": 0,
      "outputs": []
    },
    {
      "cell_type": "code",
      "metadata": {
        "id": "GzjYdVhJ-spf",
        "colab_type": "code",
        "colab": {}
      },
      "source": [
        "s_path ='sharp/'\n",
        "df_path='defocused_blurred/'\n",
        "bl_path ='motion_blurred/'\n",
        "\n",
        "img_paths = ['https://wirestock-prod.sfo2.digitaloceanspaces.com/public/81/gQFkGbHCD8DgTxiRuiOGNgCbHVHhCW49B9cJjNzK.jpeg?fbclid=IwAR0cessr2sk-f7eBAAi-vwwVYGPgivzR_Ef6177-DrGG1oLN5BytgxGJWmE']\n",
        " \n",
        "def show_images(path):\n",
        "    plt.figure(figsize=(10,10))\n",
        "    for i in range(len(path)):\n",
        "        x=plt.imread(path[i])\n",
        "        plt.subplot(1, 3, i+1)\n",
        "        plt.imshow(x)\n",
        "        plt.xticks([])\n",
        "        plt.yticks([])\n",
        "    plt.tight_layout()\n",
        "    plt.show()\n",
        "     "
      ],
      "execution_count": 0,
      "outputs": []
    },
    {
      "cell_type": "code",
      "metadata": {
        "id": "QhH3ydy2-3jf",
        "colab_type": "code",
        "colab": {}
      },
      "source": [
        "def show_images(path):\n",
        "    plt.figure(figsize=(10,10))\n",
        "    for i in range(len(path)):\n",
        "        x=cv2.imread(path[i],0)\n",
        "        l = laplace(x)\n",
        "        plt.subplot(1, 3, i+1)\n",
        "        plt.imshow(l,cmap='gray')\n",
        "        plt.xticks([])\n",
        "        plt.yticks([])\n",
        "    plt.tight_layout()\n",
        "    plt.show()\n",
        " "
      ],
      "execution_count": 0,
      "outputs": []
    },
    {
      "cell_type": "code",
      "metadata": {
        "id": "idsS6tlk_B_2",
        "colab_type": "code",
        "colab": {}
      },
      "source": [
        "def show_images(path):\n",
        "    plt.figure(figsize=(10,10))\n",
        "    for i in range(len(path)):\n",
        "        x=cv2.imread(path[i],0)\n",
        "        l = sobel(x)\n",
        "        plt.subplot(1, 3, i+1)\n",
        "        plt.imshow(l,cmap='gray')\n",
        "        plt.xticks([])\n",
        "        plt.yticks([])\n",
        "    plt.tight_layout()\n",
        "    plt.show()\n",
        " "
      ],
      "execution_count": 0,
      "outputs": []
    },
    {
      "cell_type": "code",
      "metadata": {
        "id": "x06-n9cm_E20",
        "colab_type": "code",
        "colab": {
          "base_uri": "https://localhost:8080/",
          "height": 201
        },
        "outputId": "dd68c3ff-3215-4cfe-8533-83bbf091a7fe"
      },
      "source": [
        "sharp_images = os.listdir(s_path)\n",
        "defocused = os.listdir(df_path)\n",
        "motion_blurred = os.listdir(mot_path)"
      ],
      "execution_count": 12,
      "outputs": [
        {
          "output_type": "error",
          "ename": "FileNotFoundError",
          "evalue": "ignored",
          "traceback": [
            "\u001b[0;31m---------------------------------------------------------------------------\u001b[0m",
            "\u001b[0;31mFileNotFoundError\u001b[0m                         Traceback (most recent call last)",
            "\u001b[0;32m<ipython-input-12-2178e78a1ca1>\u001b[0m in \u001b[0;36m<module>\u001b[0;34m()\u001b[0m\n\u001b[0;32m----> 1\u001b[0;31m \u001b[0msharp_images\u001b[0m \u001b[0;34m=\u001b[0m \u001b[0mos\u001b[0m\u001b[0;34m.\u001b[0m\u001b[0mlistdir\u001b[0m\u001b[0;34m(\u001b[0m\u001b[0ms_path\u001b[0m\u001b[0;34m)\u001b[0m\u001b[0;34m\u001b[0m\u001b[0;34m\u001b[0m\u001b[0m\n\u001b[0m\u001b[1;32m      2\u001b[0m \u001b[0mdefocused\u001b[0m \u001b[0;34m=\u001b[0m \u001b[0mos\u001b[0m\u001b[0;34m.\u001b[0m\u001b[0mlistdir\u001b[0m\u001b[0;34m(\u001b[0m\u001b[0mdf_path\u001b[0m\u001b[0;34m)\u001b[0m\u001b[0;34m\u001b[0m\u001b[0;34m\u001b[0m\u001b[0m\n\u001b[1;32m      3\u001b[0m \u001b[0mmotion_blurred\u001b[0m \u001b[0;34m=\u001b[0m \u001b[0mos\u001b[0m\u001b[0;34m.\u001b[0m\u001b[0mlistdir\u001b[0m\u001b[0;34m(\u001b[0m\u001b[0mmot_path\u001b[0m\u001b[0;34m)\u001b[0m\u001b[0;34m\u001b[0m\u001b[0;34m\u001b[0m\u001b[0m\n",
            "\u001b[0;31mFileNotFoundError\u001b[0m: [Errno 2] No such file or directory: 'sharp/'"
          ]
        }
      ]
    },
    {
      "cell_type": "code",
      "metadata": {
        "id": "4jpEmkR4_HSn",
        "colab_type": "code",
        "colab": {
          "base_uri": "https://localhost:8080/",
          "height": 131
        },
        "outputId": "1129c524-9e4e-466c-8409-3465fae8c491"
      },
      "source": [
        "   \n",
        "def get_data(path,images)\n",
        " features=[]\n",
        "    for img in images:\n",
        "        feature=[]\n",
        "        image_gray = cv2.imread(path+img,0)\n",
        "        lap_feat = laplace(image_gray)\n",
        "        sob_feat = sobel(image_gray)\n",
        "        feature.extend([img,lap_feat.mean(),lap_feat.var(),np.amax(lap_feat),sob_feat.mean(),sob_feat.var(),np.max(sob_feat)])\n",
        "        \n",
        "        features.append(feature)\n",
        "    return features"
      ],
      "execution_count": 12,
      "outputs": [
        {
          "output_type": "error",
          "ename": "SyntaxError",
          "evalue": "ignored",
          "traceback": [
            "\u001b[0;36m  File \u001b[0;32m\"<ipython-input-13-9b7035fdb7e4>\"\u001b[0;36m, line \u001b[0;32m2\u001b[0m\n\u001b[0;31m    def get_data(path,image)\u001b[0m\n\u001b[0m                            ^\u001b[0m\n\u001b[0;31mSyntaxError\u001b[0m\u001b[0;31m:\u001b[0m invalid syntax\n"
          ]
        }
      ]
    },
    {
      "cell_type": "code",
      "metadata": {
        "id": "YvkMBV9J_QQS",
        "colab_type": "code",
        "colab": {}
      },
      "source": [
        "###The mean, variance, maximum of the edge detected feature matrix are take \n",
        "###for each image appled on sobel and lapaclacian edge detection\n",
        "\n",
        "sharp_features = get_data(s_path,sharp_images)\n",
        "defocused_features = get_data(df_path,defocused)\n",
        "motion_blur_features = get_data(mot_path,motion_blurred)"
      ],
      "execution_count": 0,
      "outputs": []
    },
    {
      "cell_type": "code",
      "metadata": {
        "id": "WXvyDanw_V_m",
        "colab_type": "code",
        "colab": {}
      },
      "source": [
        "sharp_df = pd.read_csv('sharp_features.csv')\n",
        "def_df = pd.read_csv('defocused_features.csv')\n",
        "motblur_df = pd.read_csv('motionblurred_features.csv')\n",
        "sharp_df.head()\n",
        "sharp_df.drop('Unnamed: 0',axis=1,inplace=True)\n",
        "motblur_df.drop('Unnamed: 0',axis=1,inplace=True)\n",
        "def_df.drop('Unnamed: 0',axis=1,inplace=True)"
      ],
      "execution_count": 0,
      "outputs": []
    }
  ]
}